{
 "cells": [
  {
   "cell_type": "code",
   "execution_count": 91,
   "metadata": {},
   "outputs": [],
   "source": [
    "import numpy as np\n",
    "import pandas as pd\n",
    "from stempel import StempelStemmer\n",
    "import nltk\n",
    "from nltk.corpus import stopwords\n",
    "from sklearn.feature_extraction.text import TfidfVectorizer"
   ]
  },
  {
   "cell_type": "code",
   "execution_count": 81,
   "metadata": {},
   "outputs": [],
   "source": [
    "def load_file(filepath):\n",
    "    with open(filepath, encoding=\"utf-8\") as f:\n",
    "        text = f.read()\n",
    "    return text\n",
    "\n",
    "\n",
    "def preprocess_text(filepath, stopwords, stemmer, posting_delimiter='********'):\n",
    "    text = load_file(filepath)\n",
    "    \n",
    "    text_transformed = text.replace('\\n', ' ').replace('\\r', '')\n",
    "    opisy_ofert = text_transformed.split(posting_delimiter)\n",
    "    \n",
    "    opisy_ofert_bez_stopwords = []\n",
    "    for opis in opisy_ofert:\n",
    "        opis_bez_stopwords = opis\n",
    "        for stopword in stopwords:\n",
    "            opis_bez_stopwords = re.sub(r\"\\b%s\\b\" %stopword, '', opis_bez_stopwords)\n",
    "        opisy_ofert_bez_stopwords.append(opis_bez_stopwords)\n",
    "\n",
    "    opisy_po_stemmingu = []\n",
    "    for opis in opisy_ofert_bez_stopwords:\n",
    "        opisy_po_stemmingu.append([stemmer.stem(word.lower()) for word in opis.split()])\n",
    "\n",
    "    return opisy_po_stemmingu"
   ]
  },
  {
   "cell_type": "code",
   "execution_count": 75,
   "metadata": {},
   "outputs": [],
   "source": [
    "with open('data\\stop_words_polish.txt', encoding=\"utf-8\") as f:\n",
    "    stopwords = f.readlines()\n",
    "\n",
    "for i in range(len(stopwords)):\n",
    "    stopwords[i] = stopwords[i].replace('\\n', '')"
   ]
  },
  {
   "cell_type": "code",
   "execution_count": 31,
   "metadata": {},
   "outputs": [
    {
     "name": "stderr",
     "output_type": "stream",
     "text": [
      "Loading: 100%|██████████| 11368252/11368252 [00:20<00:00, 547013.79bytes/s]\n"
     ]
    }
   ],
   "source": [
    "stemmer = StempelStemmer.polimorf()"
   ]
  },
  {
   "cell_type": "code",
   "execution_count": 23,
   "metadata": {},
   "outputs": [
    {
     "name": "stderr",
     "output_type": "stream",
     "text": [
      "[nltk_data] Downloading package stopwords to\n",
      "[nltk_data]     C:\\Users\\wkosi\\AppData\\Roaming\\nltk_data...\n",
      "[nltk_data]   Package stopwords is already up-to-date!\n"
     ]
    },
    {
     "ename": "OSError",
     "evalue": "No such file or directory: 'C:\\\\Users\\\\wkosi\\\\AppData\\\\Roaming\\\\nltk_data\\\\corpora\\\\stopwords\\\\polish'",
     "output_type": "error",
     "traceback": [
      "\u001b[1;31m---------------------------------------------------------------------------\u001b[0m",
      "\u001b[1;31mOSError\u001b[0m                                   Traceback (most recent call last)",
      "Cell \u001b[1;32mIn[23], line 6\u001b[0m\n\u001b[0;32m      4\u001b[0m \u001b[39m# Pobieranie polskich stopwords\u001b[39;00m\n\u001b[0;32m      5\u001b[0m nltk\u001b[39m.\u001b[39mdownload(\u001b[39m'\u001b[39m\u001b[39mstopwords\u001b[39m\u001b[39m'\u001b[39m)\n\u001b[1;32m----> 6\u001b[0m polish_stopwords \u001b[39m=\u001b[39m stopwords\u001b[39m.\u001b[39;49mwords(\u001b[39m'\u001b[39;49m\u001b[39mpolish\u001b[39;49m\u001b[39m'\u001b[39;49m)\n",
      "File \u001b[1;32mc:\\Users\\wkosi\\AppData\\Local\\Programs\\Python\\Python311\\Lib\\site-packages\\nltk\\corpus\\reader\\wordlist.py:21\u001b[0m, in \u001b[0;36mWordListCorpusReader.words\u001b[1;34m(self, fileids, ignore_lines_startswith)\u001b[0m\n\u001b[0;32m     18\u001b[0m \u001b[39mdef\u001b[39;00m \u001b[39mwords\u001b[39m(\u001b[39mself\u001b[39m, fileids\u001b[39m=\u001b[39m\u001b[39mNone\u001b[39;00m, ignore_lines_startswith\u001b[39m=\u001b[39m\u001b[39m\"\u001b[39m\u001b[39m\\n\u001b[39;00m\u001b[39m\"\u001b[39m):\n\u001b[0;32m     19\u001b[0m     \u001b[39mreturn\u001b[39;00m [\n\u001b[0;32m     20\u001b[0m         line\n\u001b[1;32m---> 21\u001b[0m         \u001b[39mfor\u001b[39;00m line \u001b[39min\u001b[39;00m line_tokenize(\u001b[39mself\u001b[39;49m\u001b[39m.\u001b[39;49mraw(fileids))\n\u001b[0;32m     22\u001b[0m         \u001b[39mif\u001b[39;00m \u001b[39mnot\u001b[39;00m line\u001b[39m.\u001b[39mstartswith(ignore_lines_startswith)\n\u001b[0;32m     23\u001b[0m     ]\n",
      "File \u001b[1;32mc:\\Users\\wkosi\\AppData\\Local\\Programs\\Python\\Python311\\Lib\\site-packages\\nltk\\corpus\\reader\\api.py:218\u001b[0m, in \u001b[0;36mCorpusReader.raw\u001b[1;34m(self, fileids)\u001b[0m\n\u001b[0;32m    216\u001b[0m contents \u001b[39m=\u001b[39m []\n\u001b[0;32m    217\u001b[0m \u001b[39mfor\u001b[39;00m f \u001b[39min\u001b[39;00m fileids:\n\u001b[1;32m--> 218\u001b[0m     \u001b[39mwith\u001b[39;00m \u001b[39mself\u001b[39;49m\u001b[39m.\u001b[39;49mopen(f) \u001b[39mas\u001b[39;00m fp:\n\u001b[0;32m    219\u001b[0m         contents\u001b[39m.\u001b[39mappend(fp\u001b[39m.\u001b[39mread())\n\u001b[0;32m    220\u001b[0m \u001b[39mreturn\u001b[39;00m concat(contents)\n",
      "File \u001b[1;32mc:\\Users\\wkosi\\AppData\\Local\\Programs\\Python\\Python311\\Lib\\site-packages\\nltk\\corpus\\reader\\api.py:231\u001b[0m, in \u001b[0;36mCorpusReader.open\u001b[1;34m(self, file)\u001b[0m\n\u001b[0;32m    223\u001b[0m \u001b[39m\u001b[39m\u001b[39m\"\"\"\u001b[39;00m\n\u001b[0;32m    224\u001b[0m \u001b[39mReturn an open stream that can be used to read the given file.\u001b[39;00m\n\u001b[0;32m    225\u001b[0m \u001b[39mIf the file's encoding is not None, then the stream will\u001b[39;00m\n\u001b[1;32m   (...)\u001b[0m\n\u001b[0;32m    228\u001b[0m \u001b[39m:param file: The file identifier of the file to read.\u001b[39;00m\n\u001b[0;32m    229\u001b[0m \u001b[39m\"\"\"\u001b[39;00m\n\u001b[0;32m    230\u001b[0m encoding \u001b[39m=\u001b[39m \u001b[39mself\u001b[39m\u001b[39m.\u001b[39mencoding(file)\n\u001b[1;32m--> 231\u001b[0m stream \u001b[39m=\u001b[39m \u001b[39mself\u001b[39;49m\u001b[39m.\u001b[39;49m_root\u001b[39m.\u001b[39;49mjoin(file)\u001b[39m.\u001b[39mopen(encoding)\n\u001b[0;32m    232\u001b[0m \u001b[39mreturn\u001b[39;00m stream\n",
      "File \u001b[1;32mc:\\Users\\wkosi\\AppData\\Local\\Programs\\Python\\Python311\\Lib\\site-packages\\nltk\\data.py:334\u001b[0m, in \u001b[0;36mFileSystemPathPointer.join\u001b[1;34m(self, fileid)\u001b[0m\n\u001b[0;32m    332\u001b[0m \u001b[39mdef\u001b[39;00m \u001b[39mjoin\u001b[39m(\u001b[39mself\u001b[39m, fileid):\n\u001b[0;32m    333\u001b[0m     _path \u001b[39m=\u001b[39m os\u001b[39m.\u001b[39mpath\u001b[39m.\u001b[39mjoin(\u001b[39mself\u001b[39m\u001b[39m.\u001b[39m_path, fileid)\n\u001b[1;32m--> 334\u001b[0m     \u001b[39mreturn\u001b[39;00m FileSystemPathPointer(_path)\n",
      "File \u001b[1;32mc:\\Users\\wkosi\\AppData\\Local\\Programs\\Python\\Python311\\Lib\\site-packages\\nltk\\compat.py:41\u001b[0m, in \u001b[0;36mpy3_data.<locals>._decorator\u001b[1;34m(*args, **kwargs)\u001b[0m\n\u001b[0;32m     39\u001b[0m \u001b[39mdef\u001b[39;00m \u001b[39m_decorator\u001b[39m(\u001b[39m*\u001b[39margs, \u001b[39m*\u001b[39m\u001b[39m*\u001b[39mkwargs):\n\u001b[0;32m     40\u001b[0m     args \u001b[39m=\u001b[39m (args[\u001b[39m0\u001b[39m], add_py3_data(args[\u001b[39m1\u001b[39m])) \u001b[39m+\u001b[39m args[\u001b[39m2\u001b[39m:]\n\u001b[1;32m---> 41\u001b[0m     \u001b[39mreturn\u001b[39;00m init_func(\u001b[39m*\u001b[39;49margs, \u001b[39m*\u001b[39;49m\u001b[39m*\u001b[39;49mkwargs)\n",
      "File \u001b[1;32mc:\\Users\\wkosi\\AppData\\Local\\Programs\\Python\\Python311\\Lib\\site-packages\\nltk\\data.py:312\u001b[0m, in \u001b[0;36mFileSystemPathPointer.__init__\u001b[1;34m(self, _path)\u001b[0m\n\u001b[0;32m    310\u001b[0m _path \u001b[39m=\u001b[39m os\u001b[39m.\u001b[39mpath\u001b[39m.\u001b[39mabspath(_path)\n\u001b[0;32m    311\u001b[0m \u001b[39mif\u001b[39;00m \u001b[39mnot\u001b[39;00m os\u001b[39m.\u001b[39mpath\u001b[39m.\u001b[39mexists(_path):\n\u001b[1;32m--> 312\u001b[0m     \u001b[39mraise\u001b[39;00m \u001b[39mOSError\u001b[39;00m(\u001b[39m\"\u001b[39m\u001b[39mNo such file or directory: \u001b[39m\u001b[39m%r\u001b[39;00m\u001b[39m\"\u001b[39m \u001b[39m%\u001b[39m _path)\n\u001b[0;32m    313\u001b[0m \u001b[39mself\u001b[39m\u001b[39m.\u001b[39m_path \u001b[39m=\u001b[39m _path\n",
      "\u001b[1;31mOSError\u001b[0m: No such file or directory: 'C:\\\\Users\\\\wkosi\\\\AppData\\\\Roaming\\\\nltk_data\\\\corpora\\\\stopwords\\\\polish'"
     ]
    }
   ],
   "source": [
    "# import nltk\n",
    "# from nltk.corpus import stopwords\n",
    "\n",
    "# # Pobieranie polskich stopwords\n",
    "# nltk.download('stopwords')\n",
    "# polish_stopwords = stopwords.words('polish')"
   ]
  },
  {
   "cell_type": "code",
   "execution_count": 84,
   "metadata": {},
   "outputs": [],
   "source": [
    "opisy_pozytywne = preprocess_text('data\\FakeJobHunter - pozytywne.txt', stopwords, stemmer, \"Opis ogłoszenia\")\n",
    "opisy_negatywne = preprocess_text('data\\FakeJobHunter - negatywne.txt', stopwords, stemmer)"
   ]
  },
  {
   "cell_type": "code",
   "execution_count": 85,
   "metadata": {},
   "outputs": [
    {
     "name": "stdout",
     "output_type": "stream",
     "text": [
      "['nativus', 'dzień', 'doradca:', 'mieć', 'bezpośredni', 'kontakt', 'nasze', 'klient', 'zapewniać', 'kompleksowy', 'obsługę,', 'być', 'profesjonalny', 'budować', 'przyjazny', 'relacja', 'klientami,', 'pracować', 'swój', 'premię,', 'prowadzić', 'aktywny', 'sprzedaż', 'produkt', 'usługi', 'bankowy', 'ubezpieczeniowych,', 'przeprowadzać', 'transakcja', 'gotówkowy', 'bezgotówkowe.', 'to', 'stanowisko', 'twoje,', ':', 'interesować', 'branża', 'finansowy', '–', 'chcieć', 'nenen', 'wiedza', 'rozwijać,', 'lubić', 'ludzi.', 'n', 'bać', 'kontakt', 'klient', 'być', 'otwarty/', 'potrzeby,', 'podchodzić', 'entuzjastycznić', 'praca', 'chcieć', 'mść', 'satysfakcja', 'osiągać', 'celów,', 'mieć', 'wykształcić', 'średnia', 'wyższe,', 'mieć', 'doświadczyć', 'praca', 'związać', 'finansami,', 'sprzedaż', 'obsługa', 'klient', '(mila', 'widziane).', 'dołączać', 'otrzymasz:', 'umowa', 'pracę,', 'stały', 'wynagrodzić', 'premię,', 'atrakcyjny', 'pakiet', 'benefit', 'karta', 'multisport,', 'prywatny', 'opieka', 'zdrowotny', 'pracowniczy', 'program', 'emerytalny,', 'szkolić', 'przygotowywać', 'realizacja', 'zadań,', 'opiekuna,', 'sprawnia', 'skutyć', 'przeprowadzić', 'ty', 'proces', 'adaptacji,', 'możliwość', 'rozwój', 'zawodowy', 'szansa', 'awans', 'ramy', 'struktura', 'banku.', 'opis', 'stanowiska:', 'sprzedaż', 'produkt', 'finansowy', 'wyspa', 'teren', 'prowadzić', 'aktywny', 'działanie', 'zakres', 'pozyskiwać', 'klient', 'podejmować', 'działanie', 'marketingowy', 'wyznaczyć', 'teren', 'wymagania:', 'łatwość', 'nawiązywać', 'kontakt', 'samodzielność', 'działanie', 'umiejętność', 'przekonywać', 'oferujemy:', 'zatrudnienie', 'umowa', 'zlecieć', 'podstawa', '3.000złoty', '+', 'systema', 'prowizyjnopremiowy', 'szkolić', 'wsparcie', 'kierownik', 'elastyczność', 'praca', 'pogodzić', 'obecny', 'zatrudnienie', 'telefon', 'komórkowy', 'dodatek', 'paliwowy', 'konkurs', 'promocja', 'pracownik', 'praca', 'biurowa/online', 'teren', 'klientem.', 'praca', 'trudny', 'lubić', 'kontakt', 'człowiek', 'przyjemna.', 'być', 'młody', 'mama', 'chcieć', 'poświęcać', 'czas', 'dziecko', 'jednocześnąć', 'pracować', 'domu?', 'ojciec', 'móc', 'porozmawiać', 'dobry', 'kawie!', 'oferujemy:', 'elastyczny', 'godzina', 'praca', 'wysoki', 'wynagrodzić', 'prowizyjny', 'jasny', 'dokładnie', 'określony', 'ścieżka', 'kariera', 'praca', 'młody', 'dynamiczny', 'zespół', 'materiały', 'edukacyjne,', 'szkolenia,', 'wyjazd', 'firmowy', 'jeśli', 'potrzebować', 'czas', 'nauka', 'dostać', 'oczywiście', 'stały', 'wsparcie', 'zespołu.(', 'co', 'bać)', 'praca', 'osoba', 'lubić', 'boja', 'wyzwań.', 'stawiać', 'rozwój', 'osobisty', 'branża', 'żyć', 'prywatnym.', 'oda', 'kandydat', 'wymagać', 'wykształcić', 'minuta', 'średnia', 'zaświadczyć', 'niekaralności.', 'praca', 'idealć', 'sprawdzić', 'studentów!', 'nawenie', '9000złoty', '(', 'stanowisko', 'managerskich)', 'jeżeć', 'oferta', 'wydać', 'interesujący', 'zadzwonić', 'napisz.', 'prosić', 'przesyłać', 'centyvus', 'aiwać', 'móc', 'skontaktować', 'wybrany', '!', 'zatrudnić', 'stanowisko', 'doradca', 'klient', 'biuro', 'usługi', 'płatniczy', 'wymagania:', 'podstawowy', 'obsługa', 'komputer', 'umiejętność', 'obsługa', 'urządzić', 'biurowy', 'samodzielność', 'uczciwość', 'chęć', 'praca', 'praca', 'poniedziałek', 'piątek', '8.0016.00', 'wyspa', 'związek', 'rozwój', 'lubelski', 'oddział', 'poszukiwać', 'osoba', 'chcieć', 'podjąć', 'nowy', 'wyzwanie', 'elastyczny', 'dopasować', 'indywidualny', 'potrzeba', 'czas', 'pracy.', 'benefity:', 'elastyczny', 'czas', 'pracy,', 'możliwość', 'praca', 'zdalnej,', 'biurze,', 'klienta,', 'możliwość', 'osiągać', 'dochód', 'pasywny', 'dochód', 'z', 'sprzedaży,', 'dostęp', 'prywatny', 'opieka', 'medycznej,', 'prosty', 'klarowny', 'plan', 'kariery,', 'wynagrodzić', 'zależny', 'efekt', '–', 'brak', 'plan', 'sprzedażowy', 'targetów,', 'możliwość', 'szybki', 'awans', 'wymagania:', 'doświadczyć', 'bezpośredni', 'kontakt', 'klientem,', 'mila', 'widzieć', 'doświadczyć', 'branża', 'finansowy', 'studium', 'kierunkowe,', 'wysoki', 'etyka', 'zawodowy', 'kultura', 'osobista,', 'wysoki', 'motywacja', 'chęć', 'rozwoju,', 'dobry', 'organizacja', 'praca', 'własny', 'zespół', 'wykształcić', 'min.', 'średnia', 'zaświadczyć', 'niekaralność', 'jeżeć', 'być', 'osobą,', 'ambitny', 'chcieć', 'usamodzielnić', 'działanie', 'zapraszać', 'rozmowy', 'temat.', 'ustawa', 'pracownik', '–', 'być', 'partner', 'biznesie.', 'jeśli', 'wierzyć', 'przekonaj!', 'poszukiwać', 'pracownik', 'stanowisko', 'stary', 'doradca', 'finansowy', 'oczekujemy:', 'zaangażowania,', 'dobry', 'organizacja', 'czas', 'praca', ',', 'umiejętność', 'praca', 'presją,', 'zdolność', 'organizacyjnych,', 'doświadczyć', 'sprzedaż', 'produkt', 'bankowy', 'ubezpieczyć', 'minimum', '1', 'rok,', 'samodzielność', 'kreatywności,', 'nastawienie', 'realizacja', 'zadanie', 'osiągać', 'założyć', 'cel', 'min.', 'średnia', 'wykształcić', 'zadania:', 'aktywny', 'pozyskiwać', 'nowy', 'klient', 'nawiązywać', 'utrzymywać', 'pozytywny', 'relacja', 'klientem,', 'efektywny', 'realizować', 'cel', 'sprzedażowych,', 'sprzedaż', 'produkt', 'bankowy', 'ubezpieczyć', 'kształtować', 'pozytywny', 'wizerunek', 'firma', 'poprzez', 'wysoki', 'jakość', 'obsługi,', 'obsługa', 'transakcja', 'gotówkowy', 'oferujemy:', 'atrakcyjny', 'systema', 'motywacyjny', 'zatrudnienie', 'podstawa', 'umowy', 'praca', 'konkurs', 'sprzedażowy', 'nagroda', 'praca', 'poniedziałek', 'piątek', 'jeżeć', 'być', 'zainteresowany', 'proces', 'rekrutacyjny', 'przesłać', 'centyvus', ':)', 'prosić', 'zawrzeć', 'dokument', 'aplikacyjny', 'następujący', 'klauzuli:', 'wyrażać', 'zgoda', 'przetwarzanie', 'mój', 'dany', 'osobowy', 'potrzeba', 'niezbędny', 'realizacja', 'proces', 'rekrutacja', '(zgodni', 'ustawa', 'dzień', '10', 'maja', '2018', 'ochrona', 'dany', 'osobowy', '(dz.', 'ustawić', '2018,', 'poz.', '1000)', 'zgodni', 'rozporządzić', 'parlament', 'europejski', 'rada', '(ue)', '2016/679', 'dzień', '27', 'kwietni', '2016', 'r.', 'sprawa', 'ochrona', 'osoba', 'fizycznych.', 'sprzedać', 'full', 'marka', 'trek', 'topfuela', '9.8', 'slocativus', 'carbać', 'plus', 'dodatki', 'rama', 'rozmiar', '19.5', '(29\"', 'wheels)', 'kół', 'dt', 'swissa', 'x1700,', 'tubeless', 'opona', 'bontrager', 'xr3', 'team', 'issue,', 'tubeless', 'ready,', 'rozmiar', '29x2.40\"', 'napęd', 'manetka', 'srać', 'x1,', '11', 'speed', 'przerzutka', 'tylny', 'srać', 'x01', 'carbon,', 'typy', '2', 'korba', 'srać', 'x1', '1400,', '32tona', 'direct', 'mount', 'xsync', 'kaseta', 'srać', 'xg1175,', '1042,', '11', 'speed', 'ostatni', 'zostać', 'wymienić', 'kaseta', 'zębatka', 'przód', 'łańcuch.', 'sprzedawać', 'licznik', 'koszyk', 'bidon.', 'pedał', 'spdniowy', 'cenie.', 'róg', 'kierownica', 'cenie.', 'mieć', 'opona', 'bontrager', 'xr1,', 'xr3', '(1szt.)', 'przedni', 'owalny', 'zębatka', 'polskie', 'producent', 'banless', '(nowa).', 'to', 'dorzucać', 'roweru.', 'rower', 'uczestniczyć', 'żaden', 'wyścigu.', 'kupić', 'serwisować', 'bieżeć', 'koszalie', '(sklepić', 'małgośka).', 'zapraszać', 'obejrzeć', 'full', 'żywo.', 'naprawda', 'warto.', 'powód', 'sprzedaży,', 'brak', 'czas', 'jać', 'rowerem.', 'pozdrawiać', 'nativus', 'sprzedaż', 'używać', 'gravelustawa', 'kół', \"28''\", '622x19', 'c.', 'kół', 'fabrycć', 'zamontować', 'rower', 'ridley', 'kanzo.', 'kół', 'dobry', 'stanie,', 'przebieg', 'tysiąc', 'km,', 'sprzedawać', 'powód', 'przejść', 'kół', 'system', 'tubeless.', 'aluminiowy', 'obręcz', 'shimać', 'rs,', 'hamulec', 'tarczowy', 'centerlocka.', 'wraz', 'kół', 'sprzedawać', 'opona', 'wtbyły', 'riddler,', 'szerokość', '45c,', 'opona', 'przebieg', 'kilaa', 'tysiąc', 'km,', 'trocha', 'powinny', 'wytrzymać.', 'wyspa', 'skład', 'zestaw', 'wchodzić', 'dętki.', 'preferować', 'odbiór', 'osobisty', 'teren', 'torunia,', 'możliwy', 'wysyłka.', 'siodełko', 'klasyczny', 'czarny', 'panterka', '30', 'złoty', 'promujodświeżyć', 'prywatny', 'stan:', 'nowy', 'opis', 'siodełko', 'jarzemko', 'firma', 'jet', 'selle', 'model', 'az92bf3q.', 'kolor', 'czarny,', 'wymiar', '250mlmetr', 'książę', '210mm.', 'siodełko', 'nadawać', 'rower', 'miejski', 'nowy', '2023r+gratisy|rower', 'górski', 'caraimć', 'experta', '29', 'rama', 'l|170185', '999', 'złoty', 'promujodświeżyć', 'prywatny', 'stan:', 'nowy', 'opis', 'czy', 'wiesz,', 'stać', 'samochód', 'korki', 'dojazd', 'praca', 'tracić', 'średni', '35', 'godzina', 'miesięcznie?', 'czy', 'wiesz,', 'jeździć', 'samochód', 'praca', 'wydawać', 'średni', '600', 'złoty', 'miesięcznie', 'dojazd', 'pracy?', 'czy', 'lepiej', 'pieniądz', 'przeznaczyć', 'potrzebny', 'wydatki?', 'czy', 'wiesz,', 'jeździć', 'rower', 'korzystnie', 'wpływać', 'zdrowie', 'psychiczny', 'fizyczne?', 'dlaty', 'dobry', 'wyjść', 'sytuacja', 'wybrać', 'rower', 'środek', 'transportu,', 'zaoszczędzić', 'swój', 'czas,', 'cenny', 'pieniądz', 'poprawić', 'kondycja', 'fizyczna.', 'witać', 'sprzedaż', 'jeden', 'sztuka', 'nowy', 'model', 'rower', 'górski', 'caraimć', 'mountaina', 'expert.', 'być', 'rower', 'stworzyć', 'myślić', 'osoba', 'chcieć', 'poczuć', 'wolnym.', 'spełnić', 'oczekiwanie', 'wymaganie', 'entuzjasta', 'mocny', 'wrażenie', 'jeźda', 'jednoślad', 'bezdroże', 'wertepach.', 'on', 'nowoczesny', 'konstrukcja,', '21', 'biegów,', 'wyprofilować', 'rama', 'duży', 'szeroki', 'kół', 'zapewnić', 'ty', 'maksymalnia', 'komfortowy', 'płynny', 'dany', 'warunki', 'terenowych.', 'reszta', 'rower', 'zobaczyć', 'nasze', 'sklepać', 'www.bikez.plac', 'dojciec', 'rower', 'gratisy:', '1)', 'światły', 'leda', '2)', 'błotnik', '3)', 'dzwonko', 'rowerowy', 'wyjątkowy', 'geometria', 'ramy', 'sprawia,', 'uniwersalny', 'idealć', 'sprawdzać', 'każdy', 'teren', 'jeździć', 'każdy', 'warunkach.', 'być', 'idealny', 'rozwiązanie', 'mężczyzna', 'kobieta', 'chcieć', 'cieszyć', 'wyjątkowy', 'design', 'modny', \"look'iem.\", 'szeroki', 'opona', 'doskonal', 'sprawdzać', 'każdy', 'terenie,', 'być', 'czuć', 'komfortowy', 'jeździć', 'nierówny', 'drogach,', 'dziki', 'wertepach,', 'miejski', 'ścieżkach.', 'kół', '29', 'zapewniać', 'redukcja', 'drganie', 'czas', 'jazda', 'wybojach,', 'przekraczać', 'nierówny', 'krawężnik', 'mieście.', 'mtbyły', 'caraimć', 'mountaina', 'experta', 'wyposażyć', 'wysoki', 'jakość', 'hamulec', 'tarczowy', 'mechaniczne,', 'świetnia', 'sprawdzać', 'każdy', 'warunkach,', 'niezależnia', 'pogody.', 'ezyt', 'pewność', 'pojazda', 'szybki', 'zatrzymać', 'bardzo', 'awaryjny', 'sytuacji,', 'dzięki', 'to', 'móc', 'czuć', 'bezpiyć', 'krótki', 'drogi', 'hamowania.', 'przerzutka', 'światowy', 'marka', 'shimać', 'sprawią,', 'zmiana', 'przerzutka', 'szybki', 'wygodna.', 'shimać', 'przerzutka', 'rower', 'standardowy', 'premium,', 'renoma', 'świadczyć', 'dobry', 'jakość', 'działania.', 'siodełko', 'rower', 'typ', 'comfort', 'doskonal', 'sprawdzić', 'długi', 'wyczerpywać', 'wycieczek,', 'technologia', 'pua', 'clouda', 'sprawi,', 'bolec', 'kręgosłup', 'ani', 'mięsień', 'pośladek', 'świadczyć', 'z', 'idealny', 'partner', 'długi', 'wycieczki.', 'amortyzator', 'ch120', 'doskonały', 'rozwiązanie,', 'dzięki', 'kyy', 'twój', 'nadgarstek', 'bezpieczne!', 'nawenie', 'długi', 'trasa', 'spotkanie', 'bliski', 'stopień', 'niewysoki', 'krawężnik', 'być', 'odczuwać', 'dolegliwości.', 'nativus', 'kierownik', 'umieścić', 'gumowy', 'uchwyty,', 'zapewniać', 'pewny', 'chwyt.', 'dzięki', 'to', 'móc', 'cieszyć', 'wielki', 'komfort', 'jazdy.', 'rama:', 'stalowy', 'liczba', 'biegów:', '21', 'rozmiar', 'ramy:', 'locativus', 'wzrost', '[cm]:', '170185', 'rozmiar', 'kół', '[cal]:', '29', 'typ', 'roweru:', 'mtbyły', 'kolor:', 'zielonoszary', 'przeznaczenie:', 'unisex', 'waga:', '14', 'kwadratogram', 'maksymalny', 'waga', 'całkowita:', '120', 'kwadratogram', 'rok', 'modelowy:', '2023', 'przerzutka', 'przedni', 'marka:', 'shimać', 'tourney', 'przerzutka', 'tylny', 'marka:', 'shimać', 'tourney', 'manetka:', 'shimać', 'stef500', 'amortyzator', 'przód:', 'ch120', 'amortyzator', 'tył:', 'brak', 'hamulce:', 'mechaniczny', 'hamulec', 'tarczowy', 'typ:', 'wolnobieg', 'korby:', 'shimać', 'pedał', 'wyspa', 'zestawie:', 'taka', 'wygodny', 'siodełko', 'caraimć', 'clouds', 'wpuszczać', 'linki:', 'taka', 'ellys', 'arc', '50', 'locativus', 'shimać', '105', '3', '250', 'złoty', 'promujodświeżyć', 'prywatny', 'stan:', 'używać', 'marka:', 'kellys', 'materiał', 'ramy:', 'aluminium', 'rozmiar', 'koła:', '27.5\"', 'opis', 'nativus', 'sprzedaż', 'szosa', 'kellys', 'arc', '50', 'rozmiar', 'locativus', 'dobry', 'stań', 'koniec', 'zeszły', 'sezon', 'serwisowany.', 'robić', 'duży', 'przebiegi,', 'opona', 'nowy', 'cały', 'osprzęt', 'shimać', '105', 'widelec', 'karbonowy', 'pedał', 'spdniowy', '105', 'dużo', 'informacja', 'telefonicznia', 'sprzedać', 'rower', 'dziąć', '100', 'złoty', 'dojciec', 'negocjacje', 'promujodświeżyć', 'prywatny', 'stan:', 'używać', 'opis', 'koła–', '12', 'gruby', 'solidny', 'stalowy', 'rama', 'osłona', 'łańcuch', 'zębatka', 'kół', 'boczny', 'łożysko', 'kół', '–', 'klasyczny', 'kulkować', 'kółko', 'boczny', '–', 'regulowane,', 'zdejmować', 'kierownica', 'regulacja', 'wysokość', 'kąt', 'nachylić', 'siodełko', '–', 'miękki', '(niewielki', 'dziurka', 'siedzisku)', 'profila', 'osobisty', 'rączka', 'ezyt', 'antypoślizgowy', 'guma', 'odbiór', 'osobisty', 'telefon', 'huawź', 'p40', 'pra', '8bajt', '/', '256bajt', '1', '199', 'złoty', 'początek', 'formularz', 'obliczyć', 'rata', 'przedmiot', '>>', 'rrsa', '20,18%', 'dół', 'formularz', 'promujodświeżyć', 'firmowy', 'wbudować', 'pamięć:', '256bajt', 'stan:', 'używać', 'model', 'telefonu:', 'p40', 'pra', 'przesyłka', 'oa', 'opis', 'witamy,', None, 'sprzedaż', 'mieć', 'zaoferować', 'państwo', 'telefon', 'huawź', 'p40', 'pra', '8bajt', '/', '256bajt', 'sprzęt', 'używać', 'dostrzec', 'ślad', 'użytkowania,', 'tył', 'delikatne,', 'rzucać', 'oko', 'wpływać', 'bezpośredni', 'funkcjonalność.', 'technicznia', 'sprawne.', 'wystawić', 'towar', 'sprawdzić', 'nasze', 'punkcie,', 'być', 'zgodni', 'ustawa', 'odesłać', 'ciąg', '14', 'dni.', 'kolor', 'rzeczywisty', 'sprzedawać', 'towar', 'niecy', 'różnić', 'zdjęciach.', 'mój', 'wpływ', 'światło,', 'robiony', 'zdjęcia.', 'lombard', 'czynny', 'poniedziałek', 'sobota', '8:00', '21:00', 'niedziela', 'handlowy', '.', 'zachęcać', 'zapoznać', 'nasze', 'pozostały', 'aukcjami,', 'znaleźć', 'państwo', 'siebie.', 'odwiedzać', 'punkt', 'osobiśouć', 'zobaczyć', 'złoty', 'biżuterię,', 'któyy', 'mieć', 'sprzedaży.', 'przy', 'zakup', 'kilaa', 'rzecz', 'przesyłka', 'zapłacić', 'raz.', 'zapraszać', 'życzyć', 'miły', 'dnia.', ':)', 'uwaga!', 'niektóry', 'parametr', 'móc', 'się', 'n', 'zgadzać', 'przez', 'wymóg', 'allegro', 'dotyczyć', 'łączyć', 'katalog', 'produktowych.', 'wyspa', 'raz', 'wątpliwości,', 'prosić', 'ojciec', 'zapytanie', 'poprzez', 'pytanie', 'dojciec', 'sprzedającego.', 'uwaga!!!', 'towar', 'znajdywać', 'punkt', 'sprzedaż', 'adresem:', 'wyspa', 'przypadek', 'odbiór', 'osobisty', 'towar', 'prosić', 'udać', 'lokalizacji.', 'wyspa', 'siedziba', 'firma', 'prowadzony', 'sprzedaż.', 'przystawka', 'stół', 'rzepak', 'classo', '3morze', '6', '500', 'złoty', 'początek', 'formularz', 'dół', 'formularz', 'promujodświeżyć', 'prywatny', 'rok', 'produkcji:', '2000', 'opis', 'sprzedać', 'stół', 'rzepaku,', 'stan', 'idealny,', 'kosy', 'pionowe,', 'napędzać', 'elektrycć', '.', 'dużo', 'informacja', 'wumer', 'telefon', 'kosiarka', 'dyskowy', '2,5morze', '+', 'wom', 'jarmet', 'ręki!!', '18', '900', 'złoty', 'dojciec', 'negocjacje', 'początek', 'formularz', 'dół', 'formularz', 'promujodświeżyć', 'firmowy', 'rok', 'produkcji:', '2022', 'opis', 'kosiarka', 'dyskowy', 'przeznaczyć', 'kosić', 'roślina', 'niskołodygowy', 'zakamienić', 'użytki', 'zielony', 'równy', 'powierzchni.', 'dzięki', 'zastosowanie', 'regulować', 'sworzeń', 'zaczep', 'maszyna', 'agregatować', 'ciągnik', 'wyposażyć', 'ii', 'i', 'kategoria', 'zawieszania.', 'dojciec', 'napęd', 'kosiarka', 'zastosowany', 'sprawdzić', 'przekładnia', 'listwa', 'cąć', 'włoski', 'firma', 'comer.', 'napęd', 'ciągnik', 'przekazywać', 'pomoc', 'wał', 'przegubowy', '–', 'teleskopowy', 'z', 'sprzęgło', 'jednokierunkowy', 'przekładnia', 'kątowy', 'listwa', 'tnącą.', 'konstrukcja', 'ramy', 'zawieszenie', 'pozwalać', 'podnoszenie', 'kosiarka', 'uwróć', 'wyłącznia', 'pomoc', 'siłownik', 'konieczność', 'unosić', 'cięgło', 'dolny', 'ciągnika.', 'kosiarka', 'dyskowy', 'jarmet', 'typ', '(symbol)', 'z210/1', 'wyposażyć', 'standardowe:', 'szerokość', 'roboczy', 'maszyna', '2,5', 'morze', 'listwa', 'cąć', 'włoski', 'firma', 'wał', 'przekaźnik', 'moc', 'z', 'sprzęgło', 'trzymak', 'umożliwiać', 'szybki', 'wymiana', 'nożyk', 'kosiarka', 'dyskowy', 'jarmet', 'dostępny', 'szerokość', 'roboczy', '2,1m;', '2,9m.', 'zapewniać', 'transport', 'teren', 'cały', 'kraju.', 'zamówienie', 'przyjmować', 'telefonicznie.', 'doradzić', 'dobór', 'maszyna', 'przygotować', 'dobry', 'ofertę.', 'zapraszać', 'pozostały', 'ogłoszenia.', '***********']\n",
      "['bet365,', 'lider', 'wśród', 'bukmacherów,', 'wyróżniać', 'zrównać', 'jakość', 'doskonały', 'oferta', 'graczy.', 'to', 'dobry', 'bukmacher', 'rynku,', 'oferować', 'korzystny', 'kurs', 'zapomnieć', 'doświadczyć', 'zakład', 'żywo.', 'czy', 'pewny', 'chcieć', 'usunąć', 'nenen', 'wiadomość?', 'móc', 'anulować', 'operację,', 'chcieć', 'zachować', 'informacje.', 'jeśli', 'zależeć', 'ty', 'porównanie', 'różny', 'bukmacher', 'oferta', 'zakładów,', 'warta', 'zwrócić', 'uwaga', 'bet365,', 'wyróżniać', 'świetny', 'renomą,', 'szybki', 'bezpieczny', 'wypłata', 'konto', 'bankowe.', 'pojciec', 'zlecieć', 'wypłaty,', 'pieniądz', 'dotrzeć', 'twój', 'konto', 'ciąg', '1-5', 'dni.', 'bet365', 'oferować', 'możliwość', 'obstawiać', 'zakład', 'wydarzyć', 'transmitować', 'żywo.', 'dzięki', 'to', 'móc', 'śledzić', 'ulubiony', 'mecze,', 'wyścigi', 'sportowy', 'emocje', 'czas', 'rzeczywisty', 'podejmować', 'zakład', 'trakt', 'trwanie', 'wydarzeń.', 'to', 'zapomnieć', 'doświadczyć', 'fan', 'sportu.', 'jeżeć', 'szukać', 'pełnowartościowy', 'konto', 'bet365,', 'móc', 'nabyć', 'atrakcyjny', 'cena', '300', 'zł.', 'być', 'świetny', 'opcja', ',', 'chcieć', 'cieszyć', 'pełny', 'zakres', 'usługi', 'korzyść', 'oferować', 'popularny', 'bukmachera.', 'dodatkowo,', 'istnieć', 'możliwość', 'sprzedaż', 'konto', 'bankowego,', 'pozwalać', 'szybki', 'decyzja', 'ciąg', '15', 'minuta', 'błyskawiczny', 'wypłata', 'środki', 'twój', 'konto.', 'pamiętaj,', 'zakład', 'żywy', 'przynosić', 'dodatkowy', 'emocje', 'radość', 'obstawiania.', 'bet365', 'umożliwiać', 'przekazywać', 'wydarzyć', 'żywy', 'pomoc', 'strumień', 'wideo,', 'czynić', 'gra', 'ekscytującą.', 'n', 'móc', 'śledzić', 'ulubiony', 'wydarzenia,', 'obstawiać', 'zakład', 'trakt', 'trwania,', 'dzięki', 'mieć', 'wielki', 'kontrola', 'szansa', 'wygraną.', 'n', 'zapominać', 'popularny', 'bukmacherach,', 'taki', 'betsafe,', 'unibet', 'betclick,', 'oferować', 'atrakcyjny', 'bonus', 'różnorodny', 'zakłady.', 'minimalny', 'wypłatać', 'konto', 'bankowy', '50', 'zł,', 'korzystny', 'opcja', 'graczy.', 'jeśli', 'lubić', 'gra', 'kasynowe,', 'bet365', 'posiadać', 'bogaty', 'ofertę,', 'obejmować', 'sloty,', 'wideo', 'poker', 'popularny', 'gier.', 'móc', 'zanurzyć', 'świat', 'kasynowy', 'emocje', 'spróbować', 'swój', 'szczęście', 'różny', 'rodzaj', 'gier,', 'dostępny', 'platforma', 'bet365.', 'wyspa', 'przypadek', 'wypłat,', 'bet365', 'umożliwiać', 'przekazać', 'środki', 'twój', 'konto', 'bankowy', 'prosty', 'wygodny', '.', 'cały', 'proces', 'trwać', 'zazwyczaić', '1', '5', 'dzień', 'roboczych,', 'oznacza,', 'pieniądz', 'pojawić', 'twój', 'konto', 'krótki', 'czas', 'moment', 'zlecieć', 'wypłaty.', 'to', 'sprawia,', 'wygodny', 'bezpieczny', 'metoda', 'przekazywać', 'środków.', 'jeśli', 'interesować', 'ty', 'forma', 'finansowe,', 'portal', 'oglaszamy24.plac', 'móc', 'znaleźć', 'ogłoszenie', 'dotyczyć', 'sprzedaż', 'konto', 'bankowego.', 'wieee', 'sprzedawca', 'oferować', 'konto', 'bankowy', 'pełny', 'funkcjonalne,', 'móc', 'nabyć', 'okazyjny', 'cenę.', 'decyzja', 'szybki', 'podejmować', 'ciąg', '15', 'minut,', 'wypłatać', 'środki', 'twój', 'konto', 'klient', 'odbywać', 'natychmiastowo.', 'warta', 'zauważyć,', 'oć', 'bet365', 'istnieć', 'popularny', 'bukmacherów,', 'taki', 'unibet,', 'bwino', 'betclick.', 'każdy', 'bukmacher', 'unikalny', 'cecha', 'oferty.', 'przeglądać', 'różny', 'platformy,', 'znaleźć', 'interesujący', 'bonus', 'powitalne,', 'atrakcyjny', 'kurs', 'różnorodny', 'forma', 'rozrywki,', 'kasyno,', 'zakład', 'żywy', 'obstawiać', 'zakład', 'sportowych.', 'podsumowując,', 'bet365', 'renomowany', 'bukmacherem,', 'oferować', 'szeroki', 'zakres', 'usługi', 'atrakcyjny', 'możliwość', 'obstawiać', 'zakładów.', 'bezpieczny', 'wygodny', 'metoda', 'wypłat,', 'szeroki', 'wybór', 'gra', 'kasynowy', 'możliwość', 'zakup', 'konto', 'bet365', 'konto', 'bankowy', 'niektóry', 'liczny', 'korzyści,', 'móc', 'czerpać,', 'uczestniczyć', 'światowy', 'zakład', 'bukmacherskich.', 'wybrać', 'dobry', None, 'opcja', 'ciosać', 'fascynujący', 'rozrywka', 'szansa', 'wygraną.']\n"
     ]
    }
   ],
   "source": [
    "opisy_pozytywne_full = []\n",
    "opisy_negatywne_full = []\n",
    "\n",
    "for opis in opisy_pozytywne:\n",
    "    try:\n",
    "        opisy_pozytywne_full.append(' '.join(opis))\n",
    "    except:\n",
    "        print(opis)\n",
    "        continue\n",
    "\n",
    "for opis in opisy_negatywne:\n",
    "    try:\n",
    "        opisy_negatywne_full.append(' '.join(opis))\n",
    "    except:\n",
    "        print(opis)\n",
    "        continue"
   ]
  },
  {
   "cell_type": "code",
   "execution_count": 90,
   "metadata": {},
   "outputs": [
    {
     "data": {
      "text/plain": [
       "(13, 24)"
      ]
     },
     "execution_count": 90,
     "metadata": {},
     "output_type": "execute_result"
    }
   ],
   "source": [
    "len(opisy_pozytywne_full), len(opisy_negatywne_full)"
   ]
  },
  {
   "cell_type": "code",
   "execution_count": 107,
   "metadata": {},
   "outputs": [
    {
     "name": "stdout",
     "output_type": "stream",
     "text": [
      "          00       000      0016      0017        08        10       100   \n",
      "0   0.000000  0.000000  0.000000  0.000000  0.000000  0.000000  0.000000  \\\n",
      "1   0.000000  0.000000  0.000000  0.000000  0.000000  0.000000  0.000000   \n",
      "2   0.000000  0.000000  0.000000  0.000000  0.000000  0.000000  0.000000   \n",
      "3   0.000000  0.000000  0.000000  0.000000  0.000000  0.000000  0.000000   \n",
      "4   0.000000  0.000000  0.000000  0.000000  0.000000  0.000000  0.000000   \n",
      "5   0.000000  0.000000  0.000000  0.000000  0.000000  0.000000  0.000000   \n",
      "6   0.000000  0.000000  0.000000  0.000000  0.000000  0.000000  0.000000   \n",
      "7   0.000000  0.000000  0.000000  0.000000  0.000000  0.000000  0.000000   \n",
      "8   0.000000  0.000000  0.000000  0.000000  0.000000  0.000000  0.000000   \n",
      "9   0.000000  0.000000  0.000000  0.000000  0.000000  0.000000  0.000000   \n",
      "10  0.051681  0.000000  0.000000  0.062699  0.000000  0.000000  0.000000   \n",
      "11  0.000000  0.167889  0.000000  0.000000  0.000000  0.057284  0.000000   \n",
      "12  0.138482  0.000000  0.168005  0.000000  0.168005  0.000000  0.000000   \n",
      "13  0.000000  0.000000  0.000000  0.000000  0.000000  0.000000  0.000000   \n",
      "14  0.000000  0.000000  0.000000  0.000000  0.000000  0.000000  0.000000   \n",
      "15  0.000000  0.000000  0.000000  0.000000  0.000000  0.042713  0.000000   \n",
      "16  0.000000  0.000000  0.000000  0.000000  0.000000  0.041249  0.000000   \n",
      "17  0.000000  0.000000  0.000000  0.000000  0.000000  0.039062  0.000000   \n",
      "18  0.040231  0.000000  0.000000  0.000000  0.000000  0.016653  0.033306   \n",
      "19  0.000000  0.000000  0.000000  0.000000  0.000000  0.033782  0.000000   \n",
      "20  0.000000  0.000000  0.000000  0.000000  0.000000  0.000000  0.000000   \n",
      "21  0.000000  0.000000  0.000000  0.000000  0.000000  0.000000  0.000000   \n",
      "22  0.000000  0.000000  0.000000  0.000000  0.000000  0.000000  0.000000   \n",
      "23  0.000000  0.000000  0.000000  0.000000  0.000000  0.000000  0.000000   \n",
      "24  0.000000  0.000000  0.000000  0.000000  0.000000  0.000000  0.000000   \n",
      "25  0.000000  0.000000  0.000000  0.000000  0.000000  0.000000  0.000000   \n",
      "26  0.000000  0.000000  0.000000  0.000000  0.000000  0.000000  0.000000   \n",
      "27  0.000000  0.000000  0.000000  0.000000  0.000000  0.000000  0.098608   \n",
      "28  0.000000  0.000000  0.000000  0.000000  0.000000  0.000000  0.133074   \n",
      "29  0.000000  0.000000  0.000000  0.000000  0.000000  0.000000  0.000000   \n",
      "30  0.000000  0.000000  0.000000  0.000000  0.000000  0.000000  0.000000   \n",
      "31  0.000000  0.000000  0.000000  0.000000  0.000000  0.000000  0.000000   \n",
      "32  0.000000  0.000000  0.000000  0.000000  0.000000  0.000000  0.000000   \n",
      "33  0.000000  0.000000  0.000000  0.000000  0.000000  0.000000  0.199295   \n",
      "34  0.000000  0.000000  0.000000  0.000000  0.000000  0.000000  0.236247   \n",
      "35  0.000000  0.000000  0.000000  0.000000  0.000000  0.000000  0.108961   \n",
      "36  0.000000  0.000000  0.000000  0.000000  0.000000  0.000000  0.000000   \n",
      "\n",
      "          11        12        15  ...   świecie  świąteczny    źródło   \n",
      "0   0.000000  0.000000  0.000000  ...  0.000000    0.000000  0.000000  \\\n",
      "1   0.000000  0.000000  0.000000  ...  0.000000    0.000000  0.000000   \n",
      "2   0.000000  0.000000  0.000000  ...  0.000000    0.000000  0.000000   \n",
      "3   0.000000  0.000000  0.000000  ...  0.000000    0.000000  0.000000   \n",
      "4   0.000000  0.000000  0.000000  ...  0.000000    0.000000  0.000000   \n",
      "5   0.000000  0.000000  0.000000  ...  0.000000    0.101316  0.000000   \n",
      "6   0.000000  0.000000  0.000000  ...  0.000000    0.000000  0.000000   \n",
      "7   0.000000  0.000000  0.000000  ...  0.000000    0.000000  0.000000   \n",
      "8   0.000000  0.000000  0.000000  ...  0.000000    0.000000  0.000000   \n",
      "9   0.000000  0.000000  0.000000  ...  0.000000    0.000000  0.000000   \n",
      "10  0.000000  0.000000  0.000000  ...  0.000000    0.000000  0.000000   \n",
      "11  0.000000  0.000000  0.000000  ...  0.000000    0.000000  0.000000   \n",
      "12  0.000000  0.000000  0.000000  ...  0.000000    0.000000  0.000000   \n",
      "13  0.000000  0.000000  0.000000  ...  0.000000    0.000000  0.101822   \n",
      "14  0.000000  0.000000  0.000000  ...  0.061264    0.000000  0.048203   \n",
      "15  0.051593  0.000000  0.000000  ...  0.000000    0.000000  0.040594   \n",
      "16  0.049825  0.000000  0.000000  ...  0.049825    0.000000  0.039202   \n",
      "17  0.047184  0.000000  0.000000  ...  0.000000    0.000000  0.037125   \n",
      "18  0.000000  0.024404  0.074940  ...  0.000000    0.000000  0.000000   \n",
      "19  0.000000  0.000000  0.076010  ...  0.000000    0.000000  0.000000   \n",
      "20  0.000000  0.000000  0.064760  ...  0.000000    0.000000  0.027354   \n",
      "21  0.000000  0.000000  0.039337  ...  0.000000    0.000000  0.000000   \n",
      "22  0.000000  0.000000  0.000000  ...  0.000000    0.000000  0.000000   \n",
      "23  0.000000  0.000000  0.000000  ...  0.000000    0.000000  0.000000   \n",
      "24  0.000000  0.000000  0.000000  ...  0.000000    0.000000  0.000000   \n",
      "25  0.000000  0.000000  0.000000  ...  0.000000    0.000000  0.000000   \n",
      "26  0.000000  0.000000  0.000000  ...  0.058677    0.000000  0.046168   \n",
      "27  0.000000  0.000000  0.000000  ...  0.000000    0.000000  0.000000   \n",
      "28  0.000000  0.000000  0.000000  ...  0.000000    0.000000  0.000000   \n",
      "29  0.000000  0.000000  0.000000  ...  0.000000    0.000000  0.000000   \n",
      "30  0.000000  0.000000  0.000000  ...  0.000000    0.000000  0.000000   \n",
      "31  0.000000  0.000000  0.000000  ...  0.000000    0.000000  0.000000   \n",
      "32  0.000000  0.000000  0.000000  ...  0.000000    0.000000  0.000000   \n",
      "33  0.000000  0.000000  0.000000  ...  0.000000    0.000000  0.000000   \n",
      "34  0.000000  0.000000  0.000000  ...  0.000000    0.000000  0.000000   \n",
      "35  0.000000  0.000000  0.000000  ...  0.000000    0.000000  0.000000   \n",
      "36  0.000000  0.000000  0.000000  ...  0.000000    0.000000  0.000000   \n",
      "\n",
      "       żaden     życia     życie      żyto      żywo      żywy  label  \n",
      "0   0.000000  0.000000  0.000000  0.000000  0.000000  0.000000      1  \n",
      "1   0.000000  0.000000  0.000000  0.000000  0.000000  0.000000      1  \n",
      "2   0.000000  0.000000  0.000000  0.000000  0.000000  0.000000      1  \n",
      "3   0.000000  0.000000  0.000000  0.000000  0.000000  0.000000      1  \n",
      "4   0.000000  0.000000  0.000000  0.000000  0.000000  0.000000      1  \n",
      "5   0.000000  0.000000  0.000000  0.101316  0.000000  0.000000      1  \n",
      "6   0.000000  0.000000  0.000000  0.000000  0.000000  0.000000      1  \n",
      "7   0.000000  0.000000  0.000000  0.000000  0.000000  0.000000      1  \n",
      "8   0.000000  0.095593  0.000000  0.000000  0.000000  0.000000      1  \n",
      "9   0.000000  0.000000  0.098365  0.000000  0.000000  0.000000      1  \n",
      "10  0.000000  0.038791  0.000000  0.000000  0.000000  0.000000      1  \n",
      "11  0.000000  0.000000  0.000000  0.000000  0.000000  0.000000      1  \n",
      "12  0.000000  0.000000  0.000000  0.000000  0.000000  0.000000      1  \n",
      "13  0.000000  0.048567  0.000000  0.000000  0.000000  0.000000      0  \n",
      "14  0.000000  0.045983  0.000000  0.000000  0.000000  0.000000      0  \n",
      "15  0.000000  0.038725  0.000000  0.000000  0.000000  0.000000      0  \n",
      "16  0.000000  0.037397  0.000000  0.000000  0.000000  0.000000      0  \n",
      "17  0.000000  0.035415  0.000000  0.000000  0.000000  0.000000      0  \n",
      "18  0.000000  0.000000  0.000000  0.000000  0.093674  0.018735      0  \n",
      "19  0.000000  0.000000  0.000000  0.000000  0.114015  0.038005      0  \n",
      "20  0.037842  0.000000  0.000000  0.000000  0.097140  0.097140      0  \n",
      "21  0.045973  0.000000  0.000000  0.000000  0.039337  0.078675      0  \n",
      "22  0.000000  0.000000  0.000000  0.000000  0.000000  0.000000      0  \n",
      "23  0.000000  0.000000  0.000000  0.000000  0.000000  0.000000      0  \n",
      "24  0.000000  0.000000  0.000000  0.000000  0.000000  0.000000      0  \n",
      "25  0.000000  0.000000  0.000000  0.000000  0.000000  0.000000      0  \n",
      "26  0.000000  0.044042  0.000000  0.000000  0.000000  0.000000      0  \n",
      "27  0.000000  0.000000  0.000000  0.000000  0.000000  0.000000      0  \n",
      "28  0.000000  0.000000  0.000000  0.000000  0.000000  0.000000      0  \n",
      "29  0.000000  0.000000  0.000000  0.000000  0.000000  0.000000      0  \n",
      "30  0.000000  0.000000  0.000000  0.000000  0.000000  0.000000      0  \n",
      "31  0.000000  0.000000  0.000000  0.000000  0.000000  0.000000      0  \n",
      "32  0.000000  0.000000  0.000000  0.000000  0.000000  0.000000      0  \n",
      "33  0.000000  0.000000  0.000000  0.000000  0.000000  0.000000      0  \n",
      "34  0.000000  0.000000  0.000000  0.000000  0.000000  0.000000      0  \n",
      "35  0.000000  0.000000  0.000000  0.000000  0.000000  0.000000      0  \n",
      "36  0.000000  0.000000  0.000000  0.000000  0.000000  0.000000      0  \n",
      "\n",
      "[37 rows x 1617 columns]\n"
     ]
    }
   ],
   "source": [
    "from sklearn.feature_extraction.text import CountVectorizer\n",
    "import pandas as pd\n",
    "\n",
    "etykiety = [1] * len(opisy_pozytywne_full) + [0] * len(opisy_negatywne_full)\n",
    "opisy_ofert = opisy_pozytywne_full + opisy_negatywne_full\n",
    "# Tworzenie wektora cech\n",
    "# vectorizer = CountVectorizer()\n",
    "# cechy = vectorizer.fit_transform(opisy_ofert)\n",
    "# Konwersja wektora cech do ramki danych\n",
    "#cechy_df = pd.DataFrame(cechy.toarray(), columns=vectorizer.get_feature_names_out())\n",
    "\n",
    "vectorizer = TfidfVectorizer()\n",
    "cechy_tfidf = vectorizer.fit_transform(opisy_ofert)\n",
    "\n",
    "tfidf = cechy_tfidf.toarray()\n",
    "cechy_df = pd.DataFrame(tfidf, columns=vectorizer.get_feature_names_out())\n",
    "\n",
    "# Dodawanie etykiet\n",
    "cechy_df['label'] = etykiety\n",
    "\n",
    "# Wyświetlanie ramki danych\n",
    "print(cechy_df)\n"
   ]
  },
  {
   "cell_type": "code",
   "execution_count": 101,
   "metadata": {},
   "outputs": [
    {
     "name": "stdout",
     "output_type": "stream",
     "text": [
      "['00' '000' '0016' ... 'żyto' 'żywo' 'żywy']\n"
     ]
    }
   ],
   "source": [
    "# Tworzenie wektora cech TF-IDF\n",
    "\n",
    "# Tworzenie wektora cech TF-IDF\n",
    "vectorizer = TfidfVectorizer()\n",
    "cechy_tfidf = vectorizer.fit_transform(opisy_ofert)\n",
    "print(vectorizer.get_feature_names_out())\n",
    "tfidf = cechy_tfidf.toarray()\n",
    "# Konwersja wektora cech do ramki danych\n",
    "# cechy_tfidf_df = pd.DataFrame(cechy_tfidf.toarray(), columns=vectorizer.get_feature_names())\n",
    "\n",
    "# # Dodawanie etykiet\n",
    "# cechy_tfidf_df['label'] = etykiety\n",
    "\n",
    "# # Wyświetlanie ramki danych\n",
    "# print(cechy_tfidf_df)"
   ]
  },
  {
   "cell_type": "code",
   "execution_count": 106,
   "metadata": {},
   "outputs": [
    {
     "data": {
      "text/plain": [
       "<37x1616 sparse matrix of type '<class 'numpy.float64'>'\n",
       "\twith 4663 stored elements in Compressed Sparse Row format>"
      ]
     },
     "execution_count": 106,
     "metadata": {},
     "output_type": "execute_result"
    }
   ],
   "source": [
    "cechy_tfidf"
   ]
  },
  {
   "cell_type": "code",
   "execution_count": null,
   "metadata": {},
   "outputs": [],
   "source": []
  }
 ],
 "metadata": {
  "kernelspec": {
   "display_name": "Python 3",
   "language": "python",
   "name": "python3"
  },
  "language_info": {
   "codemirror_mode": {
    "name": "ipython",
    "version": 3
   },
   "file_extension": ".py",
   "mimetype": "text/x-python",
   "name": "python",
   "nbconvert_exporter": "python",
   "pygments_lexer": "ipython3",
   "version": "3.11.1"
  },
  "orig_nbformat": 4
 },
 "nbformat": 4,
 "nbformat_minor": 2
}
