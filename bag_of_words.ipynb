{
 "cells": [
  {
   "cell_type": "code",
   "execution_count": 1,
   "metadata": {},
   "outputs": [],
   "source": [
    "import numpy as np\n",
    "import pandas as pd"
   ]
  },
  {
   "cell_type": "code",
   "execution_count": null,
   "metadata": {},
   "outputs": [],
   "source": []
  },
  {
   "cell_type": "code",
   "execution_count": 6,
   "metadata": {},
   "outputs": [],
   "source": [
    "opisy_ofert = []"
   ]
  },
  {
   "cell_type": "code",
   "execution_count": 5,
   "metadata": {},
   "outputs": [
    {
     "data": {
      "text/plain": [
       "['Mieszkanie 2 pokojowe w centrum miasta']"
      ]
     },
     "execution_count": 5,
     "metadata": {},
     "output_type": "execute_result"
    }
   ],
   "source": [
    "opisy_ofert.append("
   ]
  },
  {
   "cell_type": "code",
   "execution_count": 3,
   "metadata": {},
   "outputs": [
    {
     "name": "stdout",
     "output_type": "stream",
     "text": [
      "   dla  doświadczonego  dynamicznym  dziale  endowymi  etat  front  it   \n",
      "0    0               1            0       0         0     0      0   0  \\\n",
      "1    0               0            1       0         0     0      0   0   \n",
      "2    1               0            0       1         0     0      0   1   \n",
      "3    0               0            0       0         1     0      1   0   \n",
      "4    0               0            0       0         0     1      0   0   \n",
      "\n",
      "   juniora  na  ...  pracę  programisty  python  szukamy  umiejętnościami   \n",
      "0        0   0  ...      0            1       1        1                0  \\\n",
      "1        0   0  ...      0            0       0        0                0   \n",
      "2        1   0  ...      0            0       0        0                0   \n",
      "3        0   0  ...      0            0       0        0                1   \n",
      "4        0   1  ...      1            0       0        0                0   \n",
      "\n",
      "   umowa  zatrudnimy  zdalna  środowisku  label  \n",
      "0      0           0       0           0      1  \n",
      "1      0           0       1           1      0  \n",
      "2      0           0       0           0      1  \n",
      "3      0           1       0           0      0  \n",
      "4      1           0       0           0      1  \n",
      "\n",
      "[5 rows x 25 columns]\n"
     ]
    }
   ],
   "source": [
    "from sklearn.feature_extraction.text import CountVectorizer\n",
    "import pandas as pd\n",
    "\n",
    "etykiety = [1, 0, 1, 0, 1]  # 1 - prawdziwa oferta, 0 - fałszywa oferta\n",
    "\n",
    "# Tworzenie wektora cech\n",
    "vectorizer = CountVectorizer()\n",
    "cechy = vectorizer.fit_transform(opisy_ofert)\n",
    "\n",
    "# Konwersja wektora cech do ramki danych\n",
    "cechy_df = pd.DataFrame(cechy.toarray(), columns=vectorizer.get_feature_names_out())\n",
    "\n",
    "# Dodawanie etykiet\n",
    "cechy_df['label'] = etykiety\n",
    "\n",
    "# Wyświetlanie ramki danych\n",
    "print(cechy_df)\n"
   ]
  },
  {
   "cell_type": "code",
   "execution_count": null,
   "metadata": {},
   "outputs": [],
   "source": []
  }
 ],
 "metadata": {
  "kernelspec": {
   "display_name": "Python 3",
   "language": "python",
   "name": "python3"
  },
  "language_info": {
   "codemirror_mode": {
    "name": "ipython",
    "version": 3
   },
   "file_extension": ".py",
   "mimetype": "text/x-python",
   "name": "python",
   "nbconvert_exporter": "python",
   "pygments_lexer": "ipython3",
   "version": "3.11.1"
  },
  "orig_nbformat": 4
 },
 "nbformat": 4,
 "nbformat_minor": 2
}
