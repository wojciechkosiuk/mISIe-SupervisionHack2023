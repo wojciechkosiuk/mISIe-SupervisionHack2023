{
 "cells": [
  {
   "cell_type": "code",
   "execution_count": 101,
   "id": "f98271e3",
   "metadata": {},
   "outputs": [],
   "source": [
    "# file for creating dictionary of emotions using słowosieci"
   ]
  },
  {
   "cell_type": "code",
   "execution_count": 104,
   "id": "67a9e0c6",
   "metadata": {},
   "outputs": [],
   "source": [
    "import pandas as pd\n",
    "from stempel import StempelStemmer\n",
    "import re\n",
    "from fuzzywuzzy import fuzz"
   ]
  },
  {
   "cell_type": "code",
   "execution_count": 78,
   "id": "538a5546",
   "metadata": {},
   "outputs": [
    {
     "name": "stderr",
     "output_type": "stream",
     "text": [
      "Loading: 100%|███████████████| 11368252/11368252 [00:13<00:00, 874221.28bytes/s]\n"
     ]
    }
   ],
   "source": [
    "stemmer = StempelStemmer.polimorf()"
   ]
  },
  {
   "cell_type": "code",
   "execution_count": 3,
   "id": "3570a2cf",
   "metadata": {},
   "outputs": [],
   "source": [
    "df_emotions = pd.read_csv('słownik_anotacji_emocjonlanej.csv')"
   ]
  },
  {
   "cell_type": "code",
   "execution_count": 44,
   "id": "40338be4",
   "metadata": {},
   "outputs": [
    {
     "data": {
      "text/plain": [
       "60163"
      ]
     },
     "execution_count": 44,
     "metadata": {},
     "output_type": "execute_result"
    }
   ],
   "source": [
    "len(pd.unique(df_emotions['lemat']))"
   ]
  },
  {
   "cell_type": "code",
   "execution_count": 94,
   "id": "92881700",
   "metadata": {},
   "outputs": [
    {
     "data": {
      "text/plain": [
       "array([nan, '- s', 'amb', '- m', '+ s', '+ m', '- s '], dtype=object)"
      ]
     },
     "execution_count": 94,
     "metadata": {},
     "output_type": "execute_result"
    }
   ],
   "source": [
    "pd.unique(df_emotions['stopien_nacechowania'])"
   ]
  },
  {
   "cell_type": "code",
   "execution_count": 95,
   "id": "d4c35e73",
   "metadata": {},
   "outputs": [],
   "source": [
    "df_emotions_short = pd.DataFrame({'word': df_emotions['lemat'], 'emotions': df_emotions['stopien_nacechowania']})\n",
    "df_emotions_short['emotions'] = df_emotions_short['emotions'].apply(lambda x: 0 if pd.isnull(x) else 1)\n",
    "df_emotions_short['word'] = df_emotions_short['word'].apply(lambda x: stemmer.stem(x))\n",
    "df_emotions_short = df_emotions_short.groupby('word')['emotions'].sum().reset_index()\n",
    "df_emotions_short['emotions'] = df_emotions_short['emotions'].apply(lambda x: 0 if x==0 else 1)"
   ]
  },
  {
   "cell_type": "code",
   "execution_count": 96,
   "id": "39c283bc",
   "metadata": {},
   "outputs": [
    {
     "data": {
      "text/html": [
       "<div>\n",
       "<style scoped>\n",
       "    .dataframe tbody tr th:only-of-type {\n",
       "        vertical-align: middle;\n",
       "    }\n",
       "\n",
       "    .dataframe tbody tr th {\n",
       "        vertical-align: top;\n",
       "    }\n",
       "\n",
       "    .dataframe thead th {\n",
       "        text-align: right;\n",
       "    }\n",
       "</style>\n",
       "<table border=\"1\" class=\"dataframe\">\n",
       "  <thead>\n",
       "    <tr style=\"text-align: right;\">\n",
       "      <th></th>\n",
       "      <th>word</th>\n",
       "      <th>emotions</th>\n",
       "    </tr>\n",
       "  </thead>\n",
       "  <tbody>\n",
       "    <tr>\n",
       "      <th>0</th>\n",
       "      <td>$</td>\n",
       "      <td>0</td>\n",
       "    </tr>\n",
       "    <tr>\n",
       "      <th>1</th>\n",
       "      <td>$L</td>\n",
       "      <td>0</td>\n",
       "    </tr>\n",
       "    <tr>\n",
       "      <th>2</th>\n",
       "      <td>$T</td>\n",
       "      <td>0</td>\n",
       "    </tr>\n",
       "    <tr>\n",
       "      <th>3</th>\n",
       "      <td>1,3-butadien</td>\n",
       "      <td>0</td>\n",
       "    </tr>\n",
       "    <tr>\n",
       "      <th>4</th>\n",
       "      <td>1/2</td>\n",
       "      <td>0</td>\n",
       "    </tr>\n",
       "    <tr>\n",
       "      <th>...</th>\n",
       "      <td>...</td>\n",
       "      <td>...</td>\n",
       "    </tr>\n",
       "    <tr>\n",
       "      <th>57568</th>\n",
       "      <td>′</td>\n",
       "      <td>0</td>\n",
       "    </tr>\n",
       "    <tr>\n",
       "      <th>57569</th>\n",
       "      <td>″</td>\n",
       "      <td>0</td>\n",
       "    </tr>\n",
       "    <tr>\n",
       "      <th>57570</th>\n",
       "      <td>€</td>\n",
       "      <td>0</td>\n",
       "    </tr>\n",
       "    <tr>\n",
       "      <th>57571</th>\n",
       "      <td>₴</td>\n",
       "      <td>0</td>\n",
       "    </tr>\n",
       "    <tr>\n",
       "      <th>57572</th>\n",
       "      <td>℥</td>\n",
       "      <td>0</td>\n",
       "    </tr>\n",
       "  </tbody>\n",
       "</table>\n",
       "<p>57573 rows × 2 columns</p>\n",
       "</div>"
      ],
      "text/plain": [
       "               word  emotions\n",
       "0                 $         0\n",
       "1                $L         0\n",
       "2                $T         0\n",
       "3      1,3-butadien         0\n",
       "4               1/2         0\n",
       "...             ...       ...\n",
       "57568             ′         0\n",
       "57569             ″         0\n",
       "57570             €         0\n",
       "57571             ₴         0\n",
       "57572             ℥         0\n",
       "\n",
       "[57573 rows x 2 columns]"
      ]
     },
     "execution_count": 96,
     "metadata": {},
     "output_type": "execute_result"
    }
   ],
   "source": [
    "df_emotions_short"
   ]
  },
  {
   "cell_type": "code",
   "execution_count": 100,
   "id": "75640963",
   "metadata": {},
   "outputs": [],
   "source": [
    "df_emotions_short.to_csv('grouped_emotions_dictionary.csv', index=False)"
   ]
  },
  {
   "cell_type": "markdown",
   "id": "b27f4660",
   "metadata": {},
   "source": [
    "## Working with DF from scrapping"
   ]
  },
  {
   "cell_type": "code",
   "execution_count": null,
   "id": "96cf45fe",
   "metadata": {},
   "outputs": [],
   "source": [
    "\n",
    "\n",
    "text_column = \n",
    "df = \n",
    "\n",
    "#długość tekstu\n",
    "df['text_length'] = text_column.apply(len)\n",
    "\n",
    "#liczba dużych liter\n",
    "df['capital_letters_count'] = text_column.apply(lambda x: sum(1 for c in x if c.isupper()))\n",
    "\n",
    "#zliczenia liczb\n",
    "df['numbers_count'] = text_column.apply(lambda x: sum(1 for c in x if c.isdigit()))\n",
    "\n",
    "#zliczenia znaków\n",
    "df['question_marks_count'] = text_column.apply(lambda x: x.count('!'))\n",
    "\n",
    "#zliczenia znaków walutowych\n",
    "df['currency_signs_count'] = text_column.apply(lambda x: x.count('$') + x.count('€') + x.count('£') + len(re.findall(r'\\bzł\\b|zł\\b', x, re.IGNORECASE)))\n",
    "\n",
    "# american phone regex\n",
    "pattern = r\"\\b\\(?\\d{3}\\)?[-.\\s]?\\d{3}[-.\\s]?\\d{4}\\b\"\n",
    "\n",
    "# Add a column for the flag indicating pattern match\n",
    "df['flag_phone'] = df['string'].apply(lambda x: 1 if re.search(pattern, x) else 0)\n",
    "\n",
    "# Define the pattern to search for\n",
    "pattern = r\"\\bi want it\\b\"\n",
    "\n",
    "# Add a column for the flag indicating pattern match\n",
    "df['flag_text'] = df['string'].apply(lambda x: 1 if re.search(pattern, x, re.IGNORECASE) else 0)\n",
    "\n",
    "target_phrase = \"umowa o dzieło\"\n",
    "\n",
    "# Add a column for the flag indicating approximate match\n",
    "df['flag_sentance_with_ratio'] = df['string'].apply(lambda x: 1 if fuzz.partial_ratio(target_phrase.lower(), x.lower()) > 70 else 0)\n",
    "\n",
    "\n"
   ]
  }
 ],
 "metadata": {
  "kernelspec": {
   "display_name": "Python 3 (ipykernel)",
   "language": "python",
   "name": "python3"
  },
  "language_info": {
   "codemirror_mode": {
    "name": "ipython",
    "version": 3
   },
   "file_extension": ".py",
   "mimetype": "text/x-python",
   "name": "python",
   "nbconvert_exporter": "python",
   "pygments_lexer": "ipython3",
   "version": "3.9.7"
  }
 },
 "nbformat": 4,
 "nbformat_minor": 5
}
